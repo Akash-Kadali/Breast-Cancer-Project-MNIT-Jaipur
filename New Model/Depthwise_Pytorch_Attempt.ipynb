{
  "nbformat": 4,
  "nbformat_minor": 0,
  "metadata": {
    "colab": {
      "provenance": [],
      "gpuType": "T4"
    },
    "kernelspec": {
      "name": "python3",
      "display_name": "Python 3"
    },
    "language_info": {
      "name": "python"
    },
    "accelerator": "GPU"
  },
  "cells": [
    {
      "cell_type": "code",
      "execution_count": 2,
      "metadata": {
        "colab": {
          "base_uri": "https://localhost:8080/"
        },
        "id": "rom1TGqw6DXj",
        "outputId": "0d7b0db0-913a-4e2b-f414-9971f89b19c2"
      },
      "outputs": [
        {
          "output_type": "stream",
          "name": "stdout",
          "text": [
            "Cloning into 'DepthwiseSeparableConvolution_Pytorch'...\n",
            "remote: Enumerating objects: 105, done.\u001b[K\n",
            "remote: Counting objects: 100% (105/105), done.\u001b[K\n",
            "remote: Compressing objects: 100% (105/105), done.\u001b[K\n",
            "remote: Total 105 (delta 57), reused 0 (delta 0), pack-reused 0\u001b[K\n",
            "Receiving objects: 100% (105/105), 312.97 KiB | 5.69 MiB/s, done.\n",
            "Resolving deltas: 100% (57/57), done.\n"
          ]
        }
      ],
      "source": [
        "!git clone https://github.com/seungjunlee96/DepthwiseSeparableConvolution_Pytorch.git"
      ]
    },
    {
      "cell_type": "code",
      "source": [
        "cd DepthwiseSeparableConvolution_Pytorch/"
      ],
      "metadata": {
        "colab": {
          "base_uri": "https://localhost:8080/"
        },
        "id": "AgfJH67E6INI",
        "outputId": "57d3708f-e07e-437a-c0a4-053530281787"
      },
      "execution_count": 5,
      "outputs": [
        {
          "output_type": "stream",
          "name": "stdout",
          "text": [
            "/content/DepthwiseSeparableConvolution_Pytorch\n"
          ]
        }
      ]
    },
    {
      "cell_type": "code",
      "source": [
        "!python3 setup.py install --user"
      ],
      "metadata": {
        "colab": {
          "base_uri": "https://localhost:8080/"
        },
        "id": "RW1zQu9L6Lo3",
        "outputId": "6f5d4e9f-137a-4844-87e3-1cd543f658ad"
      },
      "execution_count": 6,
      "outputs": [
        {
          "output_type": "stream",
          "name": "stdout",
          "text": [
            "running install\n",
            "/usr/local/lib/python3.10/dist-packages/setuptools/_distutils/cmd.py:66: SetuptoolsDeprecationWarning: setup.py install is deprecated.\n",
            "!!\n",
            "\n",
            "        ********************************************************************************\n",
            "        Please avoid running ``setup.py`` directly.\n",
            "        Instead, use pypa/build, pypa/installer, pypa/build or\n",
            "        other standards-based tools.\n",
            "\n",
            "        See https://blog.ganssle.io/articles/2021/10/setup-py-deprecated.html for details.\n",
            "        ********************************************************************************\n",
            "\n",
            "!!\n",
            "  self.initialize_options()\n",
            "/usr/local/lib/python3.10/dist-packages/setuptools/_distutils/cmd.py:66: EasyInstallDeprecationWarning: easy_install command is deprecated.\n",
            "!!\n",
            "\n",
            "        ********************************************************************************\n",
            "        Please avoid running ``setup.py`` and ``easy_install``.\n",
            "        Instead, use pypa/build, pypa/installer, pypa/build or\n",
            "        other standards-based tools.\n",
            "\n",
            "        See https://github.com/pypa/setuptools/issues/917 for details.\n",
            "        ********************************************************************************\n",
            "\n",
            "!!\n",
            "  self.initialize_options()\n",
            "running bdist_egg\n",
            "running egg_info\n",
            "creating Depthwise_Separable_Convolution_Pytorch.egg-info\n",
            "writing Depthwise_Separable_Convolution_Pytorch.egg-info/PKG-INFO\n",
            "writing dependency_links to Depthwise_Separable_Convolution_Pytorch.egg-info/dependency_links.txt\n",
            "writing top-level names to Depthwise_Separable_Convolution_Pytorch.egg-info/top_level.txt\n",
            "writing manifest file 'Depthwise_Separable_Convolution_Pytorch.egg-info/SOURCES.txt'\n",
            "reading manifest file 'Depthwise_Separable_Convolution_Pytorch.egg-info/SOURCES.txt'\n",
            "adding license file 'LICENSE'\n",
            "writing manifest file 'Depthwise_Separable_Convolution_Pytorch.egg-info/SOURCES.txt'\n",
            "installing library code to build/bdist.linux-x86_64/egg\n",
            "running install_lib\n",
            "running build_py\n",
            "creating build\n",
            "creating build/lib\n",
            "creating build/lib/DepthwiseSeparableConvolution\n",
            "copying DepthwiseSeparableConvolution/__init__.py -> build/lib/DepthwiseSeparableConvolution\n",
            "copying DepthwiseSeparableConvolution/DepthwiseSeparableConvolution.py -> build/lib/DepthwiseSeparableConvolution\n",
            "creating build/bdist.linux-x86_64\n",
            "creating build/bdist.linux-x86_64/egg\n",
            "creating build/bdist.linux-x86_64/egg/DepthwiseSeparableConvolution\n",
            "copying build/lib/DepthwiseSeparableConvolution/__init__.py -> build/bdist.linux-x86_64/egg/DepthwiseSeparableConvolution\n",
            "copying build/lib/DepthwiseSeparableConvolution/DepthwiseSeparableConvolution.py -> build/bdist.linux-x86_64/egg/DepthwiseSeparableConvolution\n",
            "byte-compiling build/bdist.linux-x86_64/egg/DepthwiseSeparableConvolution/__init__.py to __init__.cpython-310.pyc\n",
            "byte-compiling build/bdist.linux-x86_64/egg/DepthwiseSeparableConvolution/DepthwiseSeparableConvolution.py to DepthwiseSeparableConvolution.cpython-310.pyc\n",
            "creating build/bdist.linux-x86_64/egg/EGG-INFO\n",
            "copying Depthwise_Separable_Convolution_Pytorch.egg-info/PKG-INFO -> build/bdist.linux-x86_64/egg/EGG-INFO\n",
            "copying Depthwise_Separable_Convolution_Pytorch.egg-info/SOURCES.txt -> build/bdist.linux-x86_64/egg/EGG-INFO\n",
            "copying Depthwise_Separable_Convolution_Pytorch.egg-info/dependency_links.txt -> build/bdist.linux-x86_64/egg/EGG-INFO\n",
            "copying Depthwise_Separable_Convolution_Pytorch.egg-info/top_level.txt -> build/bdist.linux-x86_64/egg/EGG-INFO\n",
            "zip_safe flag not set; analyzing archive contents...\n",
            "creating dist\n",
            "creating 'dist/Depthwise_Separable_Convolution_Pytorch-0.1-py3.10.egg' and adding 'build/bdist.linux-x86_64/egg' to it\n",
            "removing 'build/bdist.linux-x86_64/egg' (and everything under it)\n",
            "Processing Depthwise_Separable_Convolution_Pytorch-0.1-py3.10.egg\n",
            "Copying Depthwise_Separable_Convolution_Pytorch-0.1-py3.10.egg to /root/.local/lib/python3.10/site-packages\n",
            "Adding Depthwise-Separable-Convolution-Pytorch 0.1 to easy-install.pth file\n",
            "\n",
            "Installed /root/.local/lib/python3.10/site-packages/Depthwise_Separable_Convolution_Pytorch-0.1-py3.10.egg\n",
            "Processing dependencies for Depthwise-Separable-Convolution-Pytorch==0.1\n",
            "Finished processing dependencies for Depthwise-Separable-Convolution-Pytorch==0.1\n"
          ]
        }
      ]
    },
    {
      "cell_type": "code",
      "source": [
        "from DepthwiseSeparableConvolution import depthwise_separable_conv\n",
        "import torch\n",
        "import torch.nn as nn\n",
        "\n",
        "class YourNetwork(nn.Module):\n",
        "    def __init__(self):\n",
        "        super(YourNetwork, self).__init__()\n",
        "        self.layer = depthwise_separable_conv(nin=3, nout=32, kernel_size=3, padding=1, bias=False)\n",
        "\n",
        "    def forward(self, x):\n",
        "        x = self.layer(x)\n",
        "        return x\n",
        "\n",
        "# Example usage\n",
        "model = YourNetwork()\n",
        "input_tensor = torch.randn(1, 3, 224, 224)  # Example input tensor\n",
        "output = model(input_tensor)\n",
        "print(output.shape)"
      ],
      "metadata": {
        "colab": {
          "base_uri": "https://localhost:8080/"
        },
        "id": "S8C77yia6ZEc",
        "outputId": "a1afdee2-199f-4879-ecda-d1de1eb9a739"
      },
      "execution_count": 10,
      "outputs": [
        {
          "output_type": "stream",
          "name": "stdout",
          "text": [
            "torch.Size([1, 32, 224, 224])\n"
          ]
        }
      ]
    },
    {
      "cell_type": "code",
      "source": [
        "!git clone https://github.com/MultiPath/DepthwiseConv2d.git"
      ],
      "metadata": {
        "colab": {
          "base_uri": "https://localhost:8080/"
        },
        "id": "ClVYvOH38Va4",
        "outputId": "5d091ba6-290b-4817-92e9-f709665aba94"
      },
      "execution_count": 16,
      "outputs": [
        {
          "output_type": "stream",
          "name": "stdout",
          "text": [
            "Cloning into 'DepthwiseConv2d'...\n",
            "remote: Enumerating objects: 4966, done.\u001b[K\n",
            "remote: Counting objects: 100% (278/278), done.\u001b[K\n",
            "remote: Compressing objects: 100% (140/140), done.\u001b[K\n",
            "remote: Total 4966 (delta 144), reused 257 (delta 125), pack-reused 4688\u001b[K\n",
            "Receiving objects: 100% (4966/4966), 26.85 MiB | 20.55 MiB/s, done.\n",
            "Resolving deltas: 100% (2775/2775), done.\n"
          ]
        }
      ]
    },
    {
      "cell_type": "code",
      "source": [
        "cd DepthwiseConv2d/"
      ],
      "metadata": {
        "colab": {
          "base_uri": "https://localhost:8080/"
        },
        "id": "uLxI7yU98dWc",
        "outputId": "31cf8763-b7b8-4279-88a9-6cba30790943"
      },
      "execution_count": 17,
      "outputs": [
        {
          "output_type": "stream",
          "name": "stdout",
          "text": [
            "/content/DepthwiseSeparableConvolution_Pytorch/DepthwiseConv2d/DepthwiseConv2d\n"
          ]
        }
      ]
    },
    {
      "cell_type": "code",
      "source": [
        "!python3 setup.py install --user"
      ],
      "metadata": {
        "colab": {
          "base_uri": "https://localhost:8080/"
        },
        "id": "r8vGxjmy8XOl",
        "outputId": "06fa8cef-0466-467c-b195-43f7844fc5f5"
      },
      "execution_count": 18,
      "outputs": [
        {
          "output_type": "stream",
          "name": "stdout",
          "text": [
            "running install\n",
            "/usr/local/lib/python3.10/dist-packages/setuptools/_distutils/cmd.py:66: SetuptoolsDeprecationWarning: setup.py install is deprecated.\n",
            "!!\n",
            "\n",
            "        ********************************************************************************\n",
            "        Please avoid running ``setup.py`` directly.\n",
            "        Instead, use pypa/build, pypa/installer, pypa/build or\n",
            "        other standards-based tools.\n",
            "\n",
            "        See https://blog.ganssle.io/articles/2021/10/setup-py-deprecated.html for details.\n",
            "        ********************************************************************************\n",
            "\n",
            "!!\n",
            "  self.initialize_options()\n",
            "/usr/local/lib/python3.10/dist-packages/setuptools/_distutils/cmd.py:66: EasyInstallDeprecationWarning: easy_install command is deprecated.\n",
            "!!\n",
            "\n",
            "        ********************************************************************************\n",
            "        Please avoid running ``setup.py`` and ``easy_install``.\n",
            "        Instead, use pypa/build, pypa/installer, pypa/build or\n",
            "        other standards-based tools.\n",
            "\n",
            "        See https://github.com/pypa/setuptools/issues/917 for details.\n",
            "        ********************************************************************************\n",
            "\n",
            "!!\n",
            "  self.initialize_options()\n",
            "running bdist_egg\n",
            "running egg_info\n",
            "creating depthwise_conv2d_implicit_gemm.egg-info\n",
            "writing depthwise_conv2d_implicit_gemm.egg-info/PKG-INFO\n",
            "writing dependency_links to depthwise_conv2d_implicit_gemm.egg-info/dependency_links.txt\n",
            "writing top-level names to depthwise_conv2d_implicit_gemm.egg-info/top_level.txt\n",
            "writing manifest file 'depthwise_conv2d_implicit_gemm.egg-info/SOURCES.txt'\n",
            "/usr/local/lib/python3.10/dist-packages/torch/utils/cpp_extension.py:499: UserWarning: Attempted to use ninja as the BuildExtension backend but we could not find ninja.. Falling back to using the slow distutils backend.\n",
            "  warnings.warn(msg.format('we could not find ninja.'))\n",
            "reading manifest file 'depthwise_conv2d_implicit_gemm.egg-info/SOURCES.txt'\n",
            "writing manifest file 'depthwise_conv2d_implicit_gemm.egg-info/SOURCES.txt'\n",
            "installing library code to build/bdist.linux-x86_64/egg\n",
            "running install_lib\n",
            "running build_py\n",
            "creating build\n",
            "creating build/lib.linux-x86_64-cpython-310\n",
            "copying depthwise_conv2d_implicit_gemm.py -> build/lib.linux-x86_64-cpython-310\n",
            "running build_ext\n",
            "/usr/local/lib/python3.10/dist-packages/torch/utils/cpp_extension.py:418: UserWarning: The detected CUDA version (12.2) has a minor version mismatch with the version that was used to compile PyTorch (12.1). Most likely this shouldn't be a problem.\n",
            "  warnings.warn(CUDA_MISMATCH_WARN.format(cuda_str_version, torch.version.cuda))\n",
            "/usr/local/lib/python3.10/dist-packages/torch/utils/cpp_extension.py:428: UserWarning: There are no x86_64-linux-gnu-g++ version bounds defined for CUDA version 12.2\n",
            "  warnings.warn(f'There are no {compiler_name} version bounds defined for CUDA version {cuda_str_version}')\n",
            "building '_depthwise_conv2d_implicit_gemm_C' extension\n",
            "creating build/temp.linux-x86_64-cpython-310\n",
            "creating build/temp.linux-x86_64-cpython-310/src\n",
            "/usr/local/lib/python3.10/dist-packages/torch/utils/cpp_extension.py:1967: UserWarning: TORCH_CUDA_ARCH_LIST is not set, all archs for visible cards are included for compilation. \n",
            "If this is not desired, please set os.environ['TORCH_CUDA_ARCH_LIST'].\n",
            "  warnings.warn(\n",
            "/usr/local/cuda/bin/nvcc -I. -I/content/DepthwiseSeparableConvolution_Pytorch/DepthwiseConv2d/DepthwiseConv2d/cutlass/include -I/content/DepthwiseSeparableConvolution_Pytorch/DepthwiseConv2d/DepthwiseConv2d/cutlass/tools/library/include -I/content/DepthwiseSeparableConvolution_Pytorch/DepthwiseConv2d/DepthwiseConv2d/cutlass/tools/util/include -I/content/DepthwiseSeparableConvolution_Pytorch/DepthwiseConv2d/DepthwiseConv2d/cutlass/examples/common -I/usr/local/lib/python3.10/dist-packages/torch/include -I/usr/local/lib/python3.10/dist-packages/torch/include/torch/csrc/api/include -I/usr/local/lib/python3.10/dist-packages/torch/include/TH -I/usr/local/lib/python3.10/dist-packages/torch/include/THC -I/usr/local/cuda/include -I/usr/include/python3.10 -c src/backward_data_fp16.cu -o build/temp.linux-x86_64-cpython-310/src/backward_data_fp16.o -D__CUDA_NO_HALF_OPERATORS__ -D__CUDA_NO_HALF_CONVERSIONS__ -D__CUDA_NO_BFLOAT16_CONVERSIONS__ -D__CUDA_NO_HALF2_OPERATORS__ --expt-relaxed-constexpr --compiler-options '-fPIC' -g -DTORCH_API_INCLUDE_EXTENSION_H -DPYBIND11_COMPILER_TYPE=\\\"_gcc\\\" -DPYBIND11_STDLIB=\\\"_libstdcpp\\\" -DPYBIND11_BUILD_ABI=\\\"_cxxabi1011\\\" -DTORCH_EXTENSION_NAME=_depthwise_conv2d_implicit_gemm_C -D_GLIBCXX_USE_CXX11_ABI=0 -gencode=arch=compute_75,code=compute_75 -gencode=arch=compute_75,code=sm_75 -std=c++17\n",
            "\u001b[01m\u001b[0m\u001b[01msrc/backward_data_fp16.cu(192)\u001b[0m: \u001b[01;35mwarning\u001b[0m #2361-D: invalid narrowing conversion from \"signed long\" to \"int\"\n",
            "      options.update({input.size(0), input.size(2), input.size(3), input.size(1)},\n",
            "                      ^\n",
            "\n",
            "\u001b[01;36m\u001b[0m\u001b[01;36mRemark\u001b[0m: The warnings can be suppressed with \"-diag-suppress <warning-number>\"\n",
            "\n",
            "\u001b[01m\u001b[0m\u001b[01msrc/backward_data_fp16.cu(192)\u001b[0m: \u001b[01;35mwarning\u001b[0m #2361-D: invalid narrowing conversion from \"signed long\" to \"int\"\n",
            "      options.update({input.size(0), input.size(2), input.size(3), input.size(1)},\n",
            "                                     ^\n",
            "\n",
            "\u001b[01m\u001b[0m\u001b[01msrc/backward_data_fp16.cu(192)\u001b[0m: \u001b[01;35mwarning\u001b[0m #2361-D: invalid narrowing conversion from \"signed long\" to \"int\"\n",
            "      options.update({input.size(0), input.size(2), input.size(3), input.size(1)},\n",
            "                                                    ^\n",
            "\n",
            "\u001b[01m\u001b[0m\u001b[01msrc/backward_data_fp16.cu(192)\u001b[0m: \u001b[01;35mwarning\u001b[0m #2361-D: invalid narrowing conversion from \"signed long\" to \"int\"\n",
            "      options.update({input.size(0), input.size(2), input.size(3), input.size(1)},\n",
            "                                                                   ^\n",
            "\n",
            "\u001b[01m\u001b[0m\u001b[01msrc/backward_data_fp16.cu(193)\u001b[0m: \u001b[01;35mwarning\u001b[0m #2361-D: invalid narrowing conversion from \"signed long\" to \"int\"\n",
            "                     {weight.size(0), weight.size(2), weight.size(3), 1});\n",
            "                      ^\n",
            "\n",
            "\u001b[01m\u001b[0m\u001b[01msrc/backward_data_fp16.cu(193)\u001b[0m: \u001b[01;35mwarning\u001b[0m #2361-D: invalid narrowing conversion from \"signed long\" to \"int\"\n",
            "                     {weight.size(0), weight.size(2), weight.size(3), 1});\n",
            "                                      ^\n",
            "\n",
            "\u001b[01m\u001b[0m\u001b[01msrc/backward_data_fp16.cu(193)\u001b[0m: \u001b[01;35mwarning\u001b[0m #2361-D: invalid narrowing conversion from \"signed long\" to \"int\"\n",
            "                     {weight.size(0), weight.size(2), weight.size(3), 1});\n",
            "                                                      ^\n",
            "\n",
            "nvcc error   : 'gcc' died due to signal 2 \n",
            "interrupted\n"
          ]
        }
      ]
    },
    {
      "cell_type": "code",
      "source": [
        "from depthwise_conv2d_implicit_gemm import DepthWiseConv2dImplicitGEMM"
      ],
      "metadata": {
        "colab": {
          "base_uri": "https://localhost:8080/",
          "height": 437
        },
        "id": "jZbgQxTv8sKt",
        "outputId": "583aaa38-3569-4da7-b987-0512db734d14"
      },
      "execution_count": 15,
      "outputs": [
        {
          "output_type": "error",
          "ename": "ModuleNotFoundError",
          "evalue": "No module named '_depthwise_conv2d_implicit_gemm_C'",
          "traceback": [
            "\u001b[0;31m---------------------------------------------------------------------------\u001b[0m",
            "\u001b[0;31mModuleNotFoundError\u001b[0m                       Traceback (most recent call last)",
            "\u001b[0;32m<ipython-input-15-c0695c7e7f03>\u001b[0m in \u001b[0;36m<cell line: 1>\u001b[0;34m()\u001b[0m\n\u001b[0;32m----> 1\u001b[0;31m \u001b[0;32mfrom\u001b[0m \u001b[0mdepthwise_conv2d_implicit_gemm\u001b[0m \u001b[0;32mimport\u001b[0m \u001b[0mDepthWiseConv2dImplicitGEMM\u001b[0m\u001b[0;34m\u001b[0m\u001b[0;34m\u001b[0m\u001b[0m\n\u001b[0m",
            "\u001b[0;32m/content/DepthwiseSeparableConvolution_Pytorch/DepthwiseConv2d/depthwise_conv2d_implicit_gemm.py\u001b[0m in \u001b[0;36m<module>\u001b[0;34m\u001b[0m\n\u001b[1;32m      6\u001b[0m \u001b[0;32mimport\u001b[0m \u001b[0mtorch\u001b[0m\u001b[0;34m.\u001b[0m\u001b[0mutils\u001b[0m\u001b[0;34m.\u001b[0m\u001b[0mcpp_extension\u001b[0m \u001b[0;32mas\u001b[0m \u001b[0mcpp_extension\u001b[0m\u001b[0;34m\u001b[0m\u001b[0;34m\u001b[0m\u001b[0m\n\u001b[1;32m      7\u001b[0m \u001b[0;34m\u001b[0m\u001b[0m\n\u001b[0;32m----> 8\u001b[0;31m \u001b[0;32mimport\u001b[0m \u001b[0m_depthwise_conv2d_implicit_gemm_C\u001b[0m \u001b[0;32mas\u001b[0m \u001b[0m_extension\u001b[0m\u001b[0;34m\u001b[0m\u001b[0;34m\u001b[0m\u001b[0m\n\u001b[0m\u001b[1;32m      9\u001b[0m \u001b[0;34m\u001b[0m\u001b[0m\n\u001b[1;32m     10\u001b[0m \u001b[0;34m\u001b[0m\u001b[0m\n",
            "\u001b[0;31mModuleNotFoundError\u001b[0m: No module named '_depthwise_conv2d_implicit_gemm_C'",
            "",
            "\u001b[0;31m---------------------------------------------------------------------------\u001b[0;32m\nNOTE: If your import is failing due to a missing package, you can\nmanually install dependencies using either !pip or !apt.\n\nTo view examples of installing some common dependencies, click the\n\"Open Examples\" button below.\n\u001b[0;31m---------------------------------------------------------------------------\u001b[0m\n"
          ],
          "errorDetails": {
            "actions": [
              {
                "action": "open_url",
                "actionText": "Open Examples",
                "url": "/notebooks/snippets/importing_libraries.ipynb"
              }
            ]
          }
        }
      ]
    },
    {
      "cell_type": "code",
      "source": [
        "from depthwise_conv2d_implicit_gemm import DepthWiseConv2dImplicitGEMM\n",
        "import torch\n",
        "import torch.nn as nn\n",
        "\n",
        "class YourNetwork(nn.Module):\n",
        "    def __init__(self):\n",
        "        super(YourNetwork, self).__init__()\n",
        "        self.layer =  DepthWiseConv2dImplicitGEMM(nin=3, nout=32, kernel_size=3, padding=1, bias=False)\n",
        "\n",
        "    def forward(self, x):\n",
        "        x = self.layer(x)\n",
        "        return x\n",
        "\n",
        "# Example usage\n",
        "model = YourNetwork()\n",
        "input_tensor = torch.randn(1, 3, 224, 224)  # Example input tensor\n",
        "output = model(input_tensor)\n",
        "print(output.shape)"
      ],
      "metadata": {
        "id": "Wim5lr4485y4"
      },
      "execution_count": null,
      "outputs": []
    }
  ]
}