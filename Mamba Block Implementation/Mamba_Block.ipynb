{
  "nbformat": 4,
  "nbformat_minor": 0,
  "metadata": {
    "colab": {
      "provenance": []
    },
    "kernelspec": {
      "name": "python3",
      "display_name": "Python 3"
    },
    "language_info": {
      "name": "python"
    }
  },
  "cells": [
    {
      "cell_type": "code",
      "execution_count": null,
      "metadata": {
        "id": "BuvkOLTkzkAT"
      },
      "outputs": [],
      "source": [
        "import tensorflow as tf\n",
        "\n",
        "def mamba_block1(input_sequence, filters, kernel_size, state_space_size, use_activation=True):\n",
        "\n",
        "  # Projection layers\n",
        "  x = tf.keras.layers.Dense(filters)(input_sequence)\n",
        "\n",
        "  # Convolutional layers\n",
        "  x = tf.keras.layers.Conv1D(filters, kernel_size, padding='same', activation='silu')(x)\n",
        "  x = tf.keras.layers.Conv1D(filters, kernel_size, padding='same', activation='silu')(x)\n",
        "\n",
        "  # Selective SSM\n",
        "  ssm = tf.keras.layers.LSTM(state_space_size, return_sequences=True)(x)\n",
        "  ssm_out = tf.keras.layers.Dense(filters)(ssm)\n",
        "\n",
        "  # Activation or multiplication\n",
        "  if use_activation:\n",
        "    ssm_out = tf.keras.layers.Activation('relu')(ssm_out)\n",
        "  else:\n",
        "    ssm_out = tf.keras.layers.Multiply()([x, ssm_out])\n",
        "\n",
        "  # Projection and normalization\n",
        "  x = tf.keras.layers.Dense(filters)(x + ssm_out)\n",
        "  x = tf.keras.layers.LayerNormalization()(x)\n",
        "\n",
        "  return x"
      ]
    },
    {
      "cell_type": "code",
      "source": [
        "import tensorflow as tf\n",
        "\n",
        "def mamba_block2(input_sequence, filters, kernel_size, state_space_size, use_activation=True):\n",
        "    # Projection layers\n",
        "    x = tf.keras.layers.Dense(filters)(input_sequence)\n",
        "\n",
        "    # Convolutional layers with SiLU activation\n",
        "    x = tf.keras.layers.Conv1D(filters, kernel_size, padding='same', activation=tf.keras.activations.silu)(x)\n",
        "    x = tf.keras.layers.Conv1D(filters, kernel_size, padding='same', activation=tf.keras.activations.silu)(x)\n",
        "\n",
        "    # Selective SSM (State Space Model)\n",
        "    ssm = tf.keras.layers.LSTM(state_space_size, return_sequences=True)(x)\n",
        "    ssm_out = tf.keras.layers.Dense(filters)(ssm)\n",
        "\n",
        "    # Activation or multiplication\n",
        "    if use_activation:\n",
        "        ssm_out = tf.keras.layers.Activation('relu')(ssm_out)\n",
        "    else:\n",
        "        ssm_out = tf.keras.layers.Multiply()([x, ssm_out])\n",
        "\n",
        "    # Projection and normalization\n",
        "    x = tf.keras.layers.Dense(filters)(x + ssm_out)\n",
        "    x = tf.keras.layers.LayerNormalization()(x)\n",
        "\n",
        "    return x\n"
      ],
      "metadata": {
        "id": "qJDfCCKY0Jty"
      },
      "execution_count": null,
      "outputs": []
    }
  ]
}